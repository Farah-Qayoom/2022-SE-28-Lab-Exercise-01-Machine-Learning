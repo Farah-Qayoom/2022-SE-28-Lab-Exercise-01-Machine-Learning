{
  "nbformat": 4,
  "nbformat_minor": 0,
  "metadata": {
    "colab": {
      "provenance": []
    },
    "kernelspec": {
      "name": "python3",
      "display_name": "Python 3"
    },
    "language_info": {
      "name": "python"
    }
  },
  "cells": [
    {
      "cell_type": "code",
      "execution_count": 1,
      "metadata": {
        "id": "I3ns5UjHU7pJ"
      },
      "outputs": [],
      "source": [
        "import numpy as np"
      ]
    },
    {
      "cell_type": "code",
      "source": [
        "X = np.array([[0, 0], [0, 1], [1, 0], [1, 1]])  # Inputs\n",
        "y = np.array([[0], [1], [1], [1]])  # Expected Output"
      ],
      "metadata": {
        "id": "YwTb5vepVQQv"
      },
      "execution_count": 2,
      "outputs": []
    },
    {
      "cell_type": "code",
      "source": [
        "weights = np.random.rand(2, 1)  # 2 input features, 1 output\n",
        "bias = np.random.rand(1)\n",
        "learning_rate = 0.1\n",
        "epochs = 100"
      ],
      "metadata": {
        "id": "oh4cOaSQVRgf"
      },
      "execution_count": 3,
      "outputs": []
    },
    {
      "cell_type": "code",
      "source": [
        "def sigmoid(x):\n",
        "    return 1 / (1 + np.exp(-x))\n"
      ],
      "metadata": {
        "id": "j8dw82qPVVpY"
      },
      "execution_count": 4,
      "outputs": []
    },
    {
      "cell_type": "code",
      "source": [
        "for epoch in range(epochs):\n",
        "    linear_output = np.dot(X, weights) + bias\n",
        "    y_pred = sigmoid(linear_output)"
      ],
      "metadata": {
        "id": "hB0nZO6qVXuL"
      },
      "execution_count": 5,
      "outputs": []
    },
    {
      "cell_type": "code",
      "source": [
        " error = y - y_pred"
      ],
      "metadata": {
        "id": "X1vbu4KHVacH"
      },
      "execution_count": 6,
      "outputs": []
    },
    {
      "cell_type": "code",
      "source": [
        "\n",
        "\n",
        "def update_weights(weights, bias, learning_rate, X, y):\n",
        "    error = y - np.dot(X, weights)  # Compute error\n",
        "    weights += learning_rate * np.dot()\n"
      ],
      "metadata": {
        "id": "cbK9LTKrVclH"
      },
      "execution_count": 10,
      "outputs": []
    },
    {
      "cell_type": "code",
      "source": [
        "test_output = sigmoid(np.dot(X, weights) + bias)\n",
        "test_predictions = (test_output > 0.5).astype(int)"
      ],
      "metadata": {
        "id": "Tx-lrgtQVgKL"
      },
      "execution_count": 11,
      "outputs": []
    },
    {
      "cell_type": "code",
      "source": [
        "accuracy = np.mean(test_predictions == y) * 100\n",
        "print(f'Final Accuracy: {accuracy:.2f}%')"
      ],
      "metadata": {
        "colab": {
          "base_uri": "https://localhost:8080/"
        },
        "id": "bKiPNohWWRbM",
        "outputId": "7302e661-948f-480f-ac5e-0c0611fc9713"
      },
      "execution_count": 12,
      "outputs": [
        {
          "output_type": "stream",
          "name": "stdout",
          "text": [
            "Final Accuracy: 75.00%\n"
          ]
        }
      ]
    },
    {
      "cell_type": "code",
      "source": [
        "print(\"Final Predictions:\")\n",
        "for i in range(len(X)):\n",
        "    print(f\"Input: {X[i]} | Predicted Output: {test_predictions[i][0]}\")"
      ],
      "metadata": {
        "colab": {
          "base_uri": "https://localhost:8080/"
        },
        "id": "PTjbfPJFWUCG",
        "outputId": "606dcfea-f43a-45cd-9863-0ec36572a5aa"
      },
      "execution_count": 13,
      "outputs": [
        {
          "output_type": "stream",
          "name": "stdout",
          "text": [
            "Final Predictions:\n",
            "Input: [0 0] | Predicted Output: 1\n",
            "Input: [0 1] | Predicted Output: 1\n",
            "Input: [1 0] | Predicted Output: 1\n",
            "Input: [1 1] | Predicted Output: 1\n"
          ]
        }
      ]
    },
    {
      "cell_type": "code",
      "source": [],
      "metadata": {
        "id": "5YPXiwhKWWjY"
      },
      "execution_count": null,
      "outputs": []
    }
  ]
}